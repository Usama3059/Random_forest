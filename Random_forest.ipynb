{
  "nbformat": 4,
  "nbformat_minor": 0,
  "metadata": {
    "colab": {
      "name": "Welcome To Colaboratory",
      "provenance": [],
      "collapsed_sections": [],
      "toc_visible": true
    },
    "kernelspec": {
      "display_name": "Python 3",
      "name": "python3"
    }
  },
  "cells": [
    {
      "cell_type": "code",
      "metadata": {
        "id": "zyqrpQxC__4e",
        "colab_type": "code",
        "colab": {}
      },
      "source": [
        "from sklearn.datasets import load_iris\n",
        "from sklearn.ensemble import RandomForestClassifier\n",
        "import pandas as pd\n",
        "import numpy as np\n",
        "np.random.seed(0)\n"
      ],
      "execution_count": 0,
      "outputs": []
    },
    {
      "cell_type": "code",
      "metadata": {
        "id": "33U4hr93AfER",
        "colab_type": "code",
        "colab": {
          "base_uri": "https://localhost:8080/",
          "height": 204
        },
        "outputId": "b9ff7031-dbd8-4be0-8338-cc32b59174d1"
      },
      "source": [
        "iris=load_iris()\n",
        "dt= pd.DataFrame(iris.data,columns=iris.feature_names)\n",
        "dt.head()"
      ],
      "execution_count": 9,
      "outputs": [
        {
          "output_type": "execute_result",
          "data": {
            "text/html": [
              "<div>\n",
              "<style scoped>\n",
              "    .dataframe tbody tr th:only-of-type {\n",
              "        vertical-align: middle;\n",
              "    }\n",
              "\n",
              "    .dataframe tbody tr th {\n",
              "        vertical-align: top;\n",
              "    }\n",
              "\n",
              "    .dataframe thead th {\n",
              "        text-align: right;\n",
              "    }\n",
              "</style>\n",
              "<table border=\"1\" class=\"dataframe\">\n",
              "  <thead>\n",
              "    <tr style=\"text-align: right;\">\n",
              "      <th></th>\n",
              "      <th>sepal length (cm)</th>\n",
              "      <th>sepal width (cm)</th>\n",
              "      <th>petal length (cm)</th>\n",
              "      <th>petal width (cm)</th>\n",
              "    </tr>\n",
              "  </thead>\n",
              "  <tbody>\n",
              "    <tr>\n",
              "      <th>0</th>\n",
              "      <td>5.1</td>\n",
              "      <td>3.5</td>\n",
              "      <td>1.4</td>\n",
              "      <td>0.2</td>\n",
              "    </tr>\n",
              "    <tr>\n",
              "      <th>1</th>\n",
              "      <td>4.9</td>\n",
              "      <td>3.0</td>\n",
              "      <td>1.4</td>\n",
              "      <td>0.2</td>\n",
              "    </tr>\n",
              "    <tr>\n",
              "      <th>2</th>\n",
              "      <td>4.7</td>\n",
              "      <td>3.2</td>\n",
              "      <td>1.3</td>\n",
              "      <td>0.2</td>\n",
              "    </tr>\n",
              "    <tr>\n",
              "      <th>3</th>\n",
              "      <td>4.6</td>\n",
              "      <td>3.1</td>\n",
              "      <td>1.5</td>\n",
              "      <td>0.2</td>\n",
              "    </tr>\n",
              "    <tr>\n",
              "      <th>4</th>\n",
              "      <td>5.0</td>\n",
              "      <td>3.6</td>\n",
              "      <td>1.4</td>\n",
              "      <td>0.2</td>\n",
              "    </tr>\n",
              "  </tbody>\n",
              "</table>\n",
              "</div>"
            ],
            "text/plain": [
              "   sepal length (cm)  sepal width (cm)  petal length (cm)  petal width (cm)\n",
              "0                5.1               3.5                1.4               0.2\n",
              "1                4.9               3.0                1.4               0.2\n",
              "2                4.7               3.2                1.3               0.2\n",
              "3                4.6               3.1                1.5               0.2\n",
              "4                5.0               3.6                1.4               0.2"
            ]
          },
          "metadata": {
            "tags": []
          },
          "execution_count": 9
        }
      ]
    },
    {
      "cell_type": "code",
      "metadata": {
        "id": "kQOykc4aCI75",
        "colab_type": "code",
        "colab": {
          "base_uri": "https://localhost:8080/",
          "height": 255
        },
        "outputId": "72ae233b-761b-40fd-adae-3b8d4f9d028d"
      },
      "source": [
        "dt['species']=pd.Categorical.from_codes(iris.target,iris.target_names)\n",
        "dt\n",
        "dt['is_trained'] = np.random.uniform(0,1 , len(dt)) <= 0.75\n",
        "print(dt)"
      ],
      "execution_count": 54,
      "outputs": [
        {
          "output_type": "stream",
          "text": [
            "     sepal length (cm)  sepal width (cm)  ...    species  is_trained\n",
            "0                  5.1               3.5  ...     setosa       False\n",
            "1                  4.9               3.0  ...     setosa        True\n",
            "2                  4.7               3.2  ...     setosa        True\n",
            "3                  4.6               3.1  ...     setosa       False\n",
            "4                  5.0               3.6  ...     setosa        True\n",
            "..                 ...               ...  ...        ...         ...\n",
            "145                6.7               3.0  ...  virginica        True\n",
            "146                6.3               2.5  ...  virginica        True\n",
            "147                6.5               3.0  ...  virginica        True\n",
            "148                6.2               3.4  ...  virginica       False\n",
            "149                5.9               3.0  ...  virginica        True\n",
            "\n",
            "[150 rows x 6 columns]\n"
          ],
          "name": "stdout"
        }
      ]
    },
    {
      "cell_type": "code",
      "metadata": {
        "id": "mLTaG6eYPfIM",
        "colab_type": "code",
        "colab": {}
      },
      "source": [
        "train,test = dt[dt['is_trained']==True],dt[dt['is_trained']==False]\n"
      ],
      "execution_count": 0,
      "outputs": []
    },
    {
      "cell_type": "code",
      "metadata": {
        "id": "egSV7i5DPfL3",
        "colab_type": "code",
        "colab": {
          "base_uri": "https://localhost:8080/",
          "height": 68
        },
        "outputId": "0441a406-007d-4364-fa95-1e3c0bd81343"
      },
      "source": [
        "y = pd.factorize(train['species'])[0]\n",
        "#print(y)\n",
        "#print(train['species'])\n",
        "features = dt.columns[:4]\n",
        "print(features)\n"
      ],
      "execution_count": 71,
      "outputs": [
        {
          "output_type": "stream",
          "text": [
            "Index(['sepal length (cm)', 'sepal width (cm)', 'petal length (cm)',\n",
            "       'petal width (cm)'],\n",
            "      dtype='object')\n"
          ],
          "name": "stdout"
        }
      ]
    },
    {
      "cell_type": "code",
      "metadata": {
        "id": "OqSgRavAeJzx",
        "colab_type": "code",
        "colab": {
          "base_uri": "https://localhost:8080/",
          "height": 190
        },
        "outputId": "4da802fa-916f-4be1-9982-519010d497eb"
      },
      "source": [
        "from sklearn.ensemble import RandomForestClassifier\n",
        "clf= RandomForestClassifier(n_jobs= 2 , random_state=0)\n",
        "clf.fit(train[features],y)"
      ],
      "execution_count": 72,
      "outputs": [
        {
          "output_type": "stream",
          "text": [
            "/usr/local/lib/python3.6/dist-packages/sklearn/ensemble/forest.py:245: FutureWarning: The default value of n_estimators will change from 10 in version 0.20 to 100 in 0.22.\n",
            "  \"10 in version 0.20 to 100 in 0.22.\", FutureWarning)\n"
          ],
          "name": "stderr"
        },
        {
          "output_type": "execute_result",
          "data": {
            "text/plain": [
              "RandomForestClassifier(bootstrap=True, class_weight=None, criterion='gini',\n",
              "                       max_depth=None, max_features='auto', max_leaf_nodes=None,\n",
              "                       min_impurity_decrease=0.0, min_impurity_split=None,\n",
              "                       min_samples_leaf=1, min_samples_split=2,\n",
              "                       min_weight_fraction_leaf=0.0, n_estimators=10, n_jobs=2,\n",
              "                       oob_score=False, random_state=0, verbose=0,\n",
              "                       warm_start=False)"
            ]
          },
          "metadata": {
            "tags": []
          },
          "execution_count": 72
        }
      ]
    },
    {
      "cell_type": "code",
      "metadata": {
        "id": "IJVhNbgKl0Tn",
        "colab_type": "code",
        "colab": {
          "base_uri": "https://localhost:8080/",
          "height": 51
        },
        "outputId": "9fa7e908-adb3-4f34-9d66-f6b449fc06fa"
      },
      "source": [
        "clf.predict(test[features])"
      ],
      "execution_count": 73,
      "outputs": [
        {
          "output_type": "execute_result",
          "data": {
            "text/plain": [
              "array([0, 0, 0, 0, 0, 0, 0, 0, 0, 0, 0, 0, 0, 1, 1, 1, 1, 1, 1, 1, 1, 1,\n",
              "       2, 2, 2, 2, 2, 2, 2, 1, 2, 1, 2, 1, 2, 2, 2])"
            ]
          },
          "metadata": {
            "tags": []
          },
          "execution_count": 73
        }
      ]
    },
    {
      "cell_type": "code",
      "metadata": {
        "id": "TAaWmP-ZnFRR",
        "colab_type": "code",
        "colab": {
          "base_uri": "https://localhost:8080/",
          "height": 697
        },
        "outputId": "60fe321d-ac39-4f70-a4cd-7dd349b2efd8"
      },
      "source": [
        "print(test)"
      ],
      "execution_count": 74,
      "outputs": [
        {
          "output_type": "stream",
          "text": [
            "     sepal length (cm)  sepal width (cm)  ...     species  is_trained\n",
            "0                  5.1               3.5  ...      setosa       False\n",
            "3                  4.6               3.1  ...      setosa       False\n",
            "8                  4.4               2.9  ...      setosa       False\n",
            "17                 5.1               3.5  ...      setosa       False\n",
            "20                 5.4               3.4  ...      setosa       False\n",
            "22                 4.6               3.6  ...      setosa       False\n",
            "23                 5.1               3.3  ...      setosa       False\n",
            "24                 4.8               3.4  ...      setosa       False\n",
            "26                 5.0               3.4  ...      setosa       False\n",
            "27                 5.2               3.5  ...      setosa       False\n",
            "36                 5.5               3.5  ...      setosa       False\n",
            "37                 4.9               3.6  ...      setosa       False\n",
            "41                 4.5               2.3  ...      setosa       False\n",
            "52                 6.9               3.1  ...  versicolor       False\n",
            "54                 6.5               2.8  ...  versicolor       False\n",
            "55                 5.7               2.8  ...  versicolor       False\n",
            "68                 6.2               2.2  ...  versicolor       False\n",
            "76                 6.8               2.8  ...  versicolor       False\n",
            "88                 5.6               3.0  ...  versicolor       False\n",
            "93                 5.0               2.3  ...  versicolor       False\n",
            "96                 5.7               2.9  ...  versicolor       False\n",
            "99                 5.7               2.8  ...  versicolor       False\n",
            "108                6.7               2.5  ...   virginica       False\n",
            "111                6.4               2.7  ...   virginica       False\n",
            "112                6.8               3.0  ...   virginica       False\n",
            "114                5.8               2.8  ...   virginica       False\n",
            "116                6.5               3.0  ...   virginica       False\n",
            "117                7.7               3.8  ...   virginica       False\n",
            "118                7.7               2.6  ...   virginica       False\n",
            "119                6.0               2.2  ...   virginica       False\n",
            "123                6.3               2.7  ...   virginica       False\n",
            "126                6.2               2.8  ...   virginica       False\n",
            "128                6.4               2.8  ...   virginica       False\n",
            "138                6.0               3.0  ...   virginica       False\n",
            "140                6.7               3.1  ...   virginica       False\n",
            "144                6.7               3.3  ...   virginica       False\n",
            "148                6.2               3.4  ...   virginica       False\n",
            "\n",
            "[37 rows x 6 columns]\n"
          ],
          "name": "stdout"
        }
      ]
    },
    {
      "cell_type": "code",
      "metadata": {
        "id": "5O3yfIjrnKOR",
        "colab_type": "code",
        "colab": {}
      },
      "source": [
        ""
      ],
      "execution_count": 0,
      "outputs": []
    }
  ]
}